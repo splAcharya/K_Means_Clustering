{
 "cells": [
  {
   "cell_type": "markdown",
   "metadata": {},
   "source": [
    "# Implementation of  K Means Clustering Algorithm with Smart Initialization  (k-means++)"
   ]
  },
  {
   "cell_type": "code",
   "execution_count": 66,
   "metadata": {},
   "outputs": [],
   "source": [
    "#Author: Swapnil Acharya\n",
    "#Date: 11/03/2020"
   ]
  },
  {
   "cell_type": "code",
   "execution_count": 67,
   "metadata": {},
   "outputs": [],
   "source": [
    "#Import Required Libraries\n",
    "import numpy as np\n",
    "import pandas as pd\n",
    "from matplotlib import pyplot as plt"
   ]
  },
  {
   "cell_type": "code",
   "execution_count": 68,
   "metadata": {},
   "outputs": [],
   "source": [
    "#read data from file\n",
    "bm_df = pd.read_csv(\"buddymove.csv\")"
   ]
  },
  {
   "cell_type": "code",
   "execution_count": 69,
   "metadata": {},
   "outputs": [
    {
     "name": "stdout",
     "output_type": "stream",
     "text": [
      "<class 'pandas.core.frame.DataFrame'>\n",
      "RangeIndex: 249 entries, 0 to 248\n",
      "Data columns (total 7 columns):\n",
      " #   Column     Non-Null Count  Dtype \n",
      "---  ------     --------------  ----- \n",
      " 0   User Id    249 non-null    object\n",
      " 1   Sports     249 non-null    int64 \n",
      " 2   Religious  249 non-null    int64 \n",
      " 3   Nature     249 non-null    int64 \n",
      " 4   Theatre    249 non-null    int64 \n",
      " 5   Shopping   249 non-null    int64 \n",
      " 6   Picnic     249 non-null    int64 \n",
      "dtypes: int64(6), object(1)\n",
      "memory usage: 13.7+ KB\n"
     ]
    }
   ],
   "source": [
    "#view info of read file\n",
    "bm_df.info()"
   ]
  },
  {
   "cell_type": "code",
   "execution_count": 70,
   "metadata": {},
   "outputs": [
    {
     "data": {
      "text/plain": [
       "Index(['User Id', 'Sports', 'Religious', 'Nature', 'Theatre', 'Shopping',\n",
       "       'Picnic'],\n",
       "      dtype='object')"
      ]
     },
     "execution_count": 70,
     "metadata": {},
     "output_type": "execute_result"
    }
   ],
   "source": [
    "#view features of read file\n",
    "bm_df.columns"
   ]
  },
  {
   "cell_type": "code",
   "execution_count": 71,
   "metadata": {},
   "outputs": [
    {
     "data": {
      "text/html": [
       "<div>\n",
       "<style scoped>\n",
       "    .dataframe tbody tr th:only-of-type {\n",
       "        vertical-align: middle;\n",
       "    }\n",
       "\n",
       "    .dataframe tbody tr th {\n",
       "        vertical-align: top;\n",
       "    }\n",
       "\n",
       "    .dataframe thead th {\n",
       "        text-align: right;\n",
       "    }\n",
       "</style>\n",
       "<table border=\"1\" class=\"dataframe\">\n",
       "  <thead>\n",
       "    <tr style=\"text-align: right;\">\n",
       "      <th></th>\n",
       "      <th>User Id</th>\n",
       "      <th>Sports</th>\n",
       "      <th>Religious</th>\n",
       "      <th>Nature</th>\n",
       "      <th>Theatre</th>\n",
       "      <th>Shopping</th>\n",
       "      <th>Picnic</th>\n",
       "    </tr>\n",
       "  </thead>\n",
       "  <tbody>\n",
       "    <tr>\n",
       "      <th>0</th>\n",
       "      <td>User 1</td>\n",
       "      <td>2</td>\n",
       "      <td>77</td>\n",
       "      <td>79</td>\n",
       "      <td>69</td>\n",
       "      <td>68</td>\n",
       "      <td>95</td>\n",
       "    </tr>\n",
       "    <tr>\n",
       "      <th>1</th>\n",
       "      <td>User 2</td>\n",
       "      <td>2</td>\n",
       "      <td>62</td>\n",
       "      <td>76</td>\n",
       "      <td>76</td>\n",
       "      <td>69</td>\n",
       "      <td>68</td>\n",
       "    </tr>\n",
       "    <tr>\n",
       "      <th>2</th>\n",
       "      <td>User 3</td>\n",
       "      <td>2</td>\n",
       "      <td>50</td>\n",
       "      <td>97</td>\n",
       "      <td>87</td>\n",
       "      <td>50</td>\n",
       "      <td>75</td>\n",
       "    </tr>\n",
       "    <tr>\n",
       "      <th>3</th>\n",
       "      <td>User 4</td>\n",
       "      <td>2</td>\n",
       "      <td>68</td>\n",
       "      <td>77</td>\n",
       "      <td>95</td>\n",
       "      <td>76</td>\n",
       "      <td>61</td>\n",
       "    </tr>\n",
       "    <tr>\n",
       "      <th>4</th>\n",
       "      <td>User 5</td>\n",
       "      <td>2</td>\n",
       "      <td>98</td>\n",
       "      <td>54</td>\n",
       "      <td>59</td>\n",
       "      <td>95</td>\n",
       "      <td>86</td>\n",
       "    </tr>\n",
       "    <tr>\n",
       "      <th>...</th>\n",
       "      <td>...</td>\n",
       "      <td>...</td>\n",
       "      <td>...</td>\n",
       "      <td>...</td>\n",
       "      <td>...</td>\n",
       "      <td>...</td>\n",
       "      <td>...</td>\n",
       "    </tr>\n",
       "    <tr>\n",
       "      <th>244</th>\n",
       "      <td>User 245</td>\n",
       "      <td>18</td>\n",
       "      <td>139</td>\n",
       "      <td>148</td>\n",
       "      <td>129</td>\n",
       "      <td>129</td>\n",
       "      <td>168</td>\n",
       "    </tr>\n",
       "    <tr>\n",
       "      <th>245</th>\n",
       "      <td>User 246</td>\n",
       "      <td>22</td>\n",
       "      <td>114</td>\n",
       "      <td>228</td>\n",
       "      <td>104</td>\n",
       "      <td>84</td>\n",
       "      <td>168</td>\n",
       "    </tr>\n",
       "    <tr>\n",
       "      <th>246</th>\n",
       "      <td>User 247</td>\n",
       "      <td>20</td>\n",
       "      <td>124</td>\n",
       "      <td>178</td>\n",
       "      <td>104</td>\n",
       "      <td>158</td>\n",
       "      <td>174</td>\n",
       "    </tr>\n",
       "    <tr>\n",
       "      <th>247</th>\n",
       "      <td>User 248</td>\n",
       "      <td>20</td>\n",
       "      <td>133</td>\n",
       "      <td>149</td>\n",
       "      <td>139</td>\n",
       "      <td>144</td>\n",
       "      <td>213</td>\n",
       "    </tr>\n",
       "    <tr>\n",
       "      <th>248</th>\n",
       "      <td>User 249</td>\n",
       "      <td>20</td>\n",
       "      <td>143</td>\n",
       "      <td>149</td>\n",
       "      <td>139</td>\n",
       "      <td>159</td>\n",
       "      <td>143</td>\n",
       "    </tr>\n",
       "  </tbody>\n",
       "</table>\n",
       "<p>249 rows × 7 columns</p>\n",
       "</div>"
      ],
      "text/plain": [
       "      User Id  Sports  Religious  Nature  Theatre  Shopping  Picnic\n",
       "0      User 1       2         77      79       69        68      95\n",
       "1      User 2       2         62      76       76        69      68\n",
       "2      User 3       2         50      97       87        50      75\n",
       "3      User 4       2         68      77       95        76      61\n",
       "4      User 5       2         98      54       59        95      86\n",
       "..        ...     ...        ...     ...      ...       ...     ...\n",
       "244  User 245      18        139     148      129       129     168\n",
       "245  User 246      22        114     228      104        84     168\n",
       "246  User 247      20        124     178      104       158     174\n",
       "247  User 248      20        133     149      139       144     213\n",
       "248  User 249      20        143     149      139       159     143\n",
       "\n",
       "[249 rows x 7 columns]"
      ]
     },
     "execution_count": 71,
     "metadata": {},
     "output_type": "execute_result"
    }
   ],
   "source": [
    "bm_df"
   ]
  },
  {
   "cell_type": "code",
   "execution_count": 72,
   "metadata": {},
   "outputs": [
    {
     "data": {
      "text/html": [
       "<div>\n",
       "<style scoped>\n",
       "    .dataframe tbody tr th:only-of-type {\n",
       "        vertical-align: middle;\n",
       "    }\n",
       "\n",
       "    .dataframe tbody tr th {\n",
       "        vertical-align: top;\n",
       "    }\n",
       "\n",
       "    .dataframe thead th {\n",
       "        text-align: right;\n",
       "    }\n",
       "</style>\n",
       "<table border=\"1\" class=\"dataframe\">\n",
       "  <thead>\n",
       "    <tr style=\"text-align: right;\">\n",
       "      <th></th>\n",
       "      <th>Sports</th>\n",
       "      <th>Religious</th>\n",
       "      <th>Nature</th>\n",
       "      <th>Theatre</th>\n",
       "      <th>Shopping</th>\n",
       "      <th>Picnic</th>\n",
       "    </tr>\n",
       "  </thead>\n",
       "  <tbody>\n",
       "    <tr>\n",
       "      <th>0</th>\n",
       "      <td>2</td>\n",
       "      <td>77</td>\n",
       "      <td>79</td>\n",
       "      <td>69</td>\n",
       "      <td>68</td>\n",
       "      <td>95</td>\n",
       "    </tr>\n",
       "    <tr>\n",
       "      <th>1</th>\n",
       "      <td>2</td>\n",
       "      <td>62</td>\n",
       "      <td>76</td>\n",
       "      <td>76</td>\n",
       "      <td>69</td>\n",
       "      <td>68</td>\n",
       "    </tr>\n",
       "    <tr>\n",
       "      <th>2</th>\n",
       "      <td>2</td>\n",
       "      <td>50</td>\n",
       "      <td>97</td>\n",
       "      <td>87</td>\n",
       "      <td>50</td>\n",
       "      <td>75</td>\n",
       "    </tr>\n",
       "    <tr>\n",
       "      <th>3</th>\n",
       "      <td>2</td>\n",
       "      <td>68</td>\n",
       "      <td>77</td>\n",
       "      <td>95</td>\n",
       "      <td>76</td>\n",
       "      <td>61</td>\n",
       "    </tr>\n",
       "    <tr>\n",
       "      <th>4</th>\n",
       "      <td>2</td>\n",
       "      <td>98</td>\n",
       "      <td>54</td>\n",
       "      <td>59</td>\n",
       "      <td>95</td>\n",
       "      <td>86</td>\n",
       "    </tr>\n",
       "    <tr>\n",
       "      <th>...</th>\n",
       "      <td>...</td>\n",
       "      <td>...</td>\n",
       "      <td>...</td>\n",
       "      <td>...</td>\n",
       "      <td>...</td>\n",
       "      <td>...</td>\n",
       "    </tr>\n",
       "    <tr>\n",
       "      <th>244</th>\n",
       "      <td>18</td>\n",
       "      <td>139</td>\n",
       "      <td>148</td>\n",
       "      <td>129</td>\n",
       "      <td>129</td>\n",
       "      <td>168</td>\n",
       "    </tr>\n",
       "    <tr>\n",
       "      <th>245</th>\n",
       "      <td>22</td>\n",
       "      <td>114</td>\n",
       "      <td>228</td>\n",
       "      <td>104</td>\n",
       "      <td>84</td>\n",
       "      <td>168</td>\n",
       "    </tr>\n",
       "    <tr>\n",
       "      <th>246</th>\n",
       "      <td>20</td>\n",
       "      <td>124</td>\n",
       "      <td>178</td>\n",
       "      <td>104</td>\n",
       "      <td>158</td>\n",
       "      <td>174</td>\n",
       "    </tr>\n",
       "    <tr>\n",
       "      <th>247</th>\n",
       "      <td>20</td>\n",
       "      <td>133</td>\n",
       "      <td>149</td>\n",
       "      <td>139</td>\n",
       "      <td>144</td>\n",
       "      <td>213</td>\n",
       "    </tr>\n",
       "    <tr>\n",
       "      <th>248</th>\n",
       "      <td>20</td>\n",
       "      <td>143</td>\n",
       "      <td>149</td>\n",
       "      <td>139</td>\n",
       "      <td>159</td>\n",
       "      <td>143</td>\n",
       "    </tr>\n",
       "  </tbody>\n",
       "</table>\n",
       "<p>249 rows × 6 columns</p>\n",
       "</div>"
      ],
      "text/plain": [
       "     Sports  Religious  Nature  Theatre  Shopping  Picnic\n",
       "0         2         77      79       69        68      95\n",
       "1         2         62      76       76        69      68\n",
       "2         2         50      97       87        50      75\n",
       "3         2         68      77       95        76      61\n",
       "4         2         98      54       59        95      86\n",
       "..      ...        ...     ...      ...       ...     ...\n",
       "244      18        139     148      129       129     168\n",
       "245      22        114     228      104        84     168\n",
       "246      20        124     178      104       158     174\n",
       "247      20        133     149      139       144     213\n",
       "248      20        143     149      139       159     143\n",
       "\n",
       "[249 rows x 6 columns]"
      ]
     },
     "execution_count": 72,
     "metadata": {},
     "output_type": "execute_result"
    }
   ],
   "source": [
    "bm_df = bm_df.drop(\"User Id\",1)\n",
    "bm_df"
   ]
  },
  {
   "cell_type": "code",
   "execution_count": 436,
   "metadata": {},
   "outputs": [],
   "source": [
    "def get_cluster_labels(distances):\n",
    "    \"\"\"This function returns clusters labels for given distances from/to centroids\n",
    "    \n",
    "    Args:\n",
    "        distances: A feature_count by clusters [n,k] matrix, containing distances from fro given centroid k\n",
    "    \n",
    "    Returns:\n",
    "        clusters_labels: A n*1 matrix containing the index of the minimum distance\n",
    "    \"\"\"\n",
    "    cluster_labels = np.argmin(distances,axis=1)\n",
    "    return cluster_labels"
   ]
  },
  {
   "cell_type": "code",
   "execution_count": 437,
   "metadata": {},
   "outputs": [],
   "source": [
    "def revise_cluster_centers(datapoints,cluster_labels,k):\n",
    "    centroids= np.zeros([k,datapoints.shape[1]])\n",
    "    for i in range(0,k):\n",
    "        dpoints = datapoints[cluster_labels==i]\n",
    "        centroids[i,:] = np.mean(dpoints,axis=0)\n",
    "    return centroids"
   ]
  },
  {
   "cell_type": "code",
   "execution_count": 438,
   "metadata": {},
   "outputs": [],
   "source": [
    "def plot_k_means(datapoints,cluster_labels,centroids):\n",
    "    dpoints0 = datapoints[cluster_labels == 0]\n",
    "    dpoints1 = datapoints[cluster_labels == 1]\n",
    "    #dpoints2 = datapoints[cluster_labels == 2]\n",
    "    plt.plot(dpoints0[:,0],dpoints0[:,1],\"r*\",\n",
    "             dpoints1[:,0],dpoints1[:,1],\"b*\",\n",
    "             #dpoints2[:,0],dpoints2[:,1],\"g*\",\n",
    "             centroids[0,:],centroids[1,:],\"yo\")\n",
    "    plt.xlabel(\"X\")\n",
    "    plt.ylabel(\"Y\")\n",
    "    plt.title(\"X Vs Y\")"
   ]
  },
  {
   "cell_type": "code",
   "execution_count": 439,
   "metadata": {},
   "outputs": [],
   "source": [
    "def get_initial_centroids(features_matrix,k):\n",
    "    rand_indexes = np.random.randint(features_matrix.shape[0],size=k)\n",
    "    centroids = features_matrix[rand_indexes]\n",
    "    centroids.shape = (k,features_matrix.shape[1])\n",
    "    return centroids"
   ]
  },
  {
   "cell_type": "code",
   "execution_count": 440,
   "metadata": {},
   "outputs": [],
   "source": [
    "def compute_stoppage(centroids):\n",
    "     k = centroids.shape[1]\n",
    "     "
   ]
  },
  {
   "cell_type": "code",
   "execution_count": 441,
   "metadata": {
    "jupyter": {
     "source_hidden": true
    }
   },
   "outputs": [],
   "source": [
    "def k_means(features_matrix,k,max_iter,gain_threshold = 10e8,verbose=True):\n",
    "    \n",
    "    centroids = get_initial_centroids(features_matrix,k)\n",
    "    \n",
    "    if verbose:\n",
    "        print(\"Initial Centroids Are: \", centroids)\n",
    "        print(\"Initial Centroids Shape: \",centroids.shape)\n",
    "        print(\"\\n\")\n",
    "        \n",
    "    distances = np.zeros((features_matrix.shape[0],k),float)\n",
    "    print(\"Distances: \" ,distances.shape)\n",
    "    \n",
    "    for i in range(0,max_iter):\n",
    "        \n",
    "        for j in range(0,k):\n",
    "            distances[:,j] = np.linalg.norm((centroids[j,:]-features_matrix),axis=1)\n",
    "            #print(centroids[j,:])\n",
    "            #x = np.linalg.norm((centroids[j,:]-features_matrix),axis=1)\n",
    "            #print(x.shape)\n",
    "            #break\n",
    "            \n",
    "        #print(x.shape)\n",
    "        #break\n",
    "            #print(x.shape)\n",
    "        #print(distances.shape)\n",
    "        \n",
    "        cluster_labels = get_cluster_labels(distances) \n",
    "\n",
    "        \n",
    "        centroids = revise_cluster_centers(features_matrix,cluster_labels,k)\n",
    "    \n",
    "        if verbose:\n",
    "            print(\" Iteration: \",i, \"\\n Revised Centroids: \\n\",centroids)\n",
    "            print(\"\\n\")\n",
    "            \n",
    "    return cluster_labels, centroids"
   ]
  },
  {
   "cell_type": "code",
   "execution_count": 442,
   "metadata": {},
   "outputs": [],
   "source": [
    "features_matrix = bm_df.to_numpy()"
   ]
  },
  {
   "cell_type": "code",
   "execution_count": 443,
   "metadata": {},
   "outputs": [
    {
     "data": {
      "text/plain": [
       "array([[  2,  77,  79,  69,  68,  95],\n",
       "       [  2,  62,  76,  76,  69,  68],\n",
       "       [  2,  50,  97,  87,  50,  75],\n",
       "       ...,\n",
       "       [ 20, 124, 178, 104, 158, 174],\n",
       "       [ 20, 133, 149, 139, 144, 213],\n",
       "       [ 20, 143, 149, 139, 159, 143]], dtype=int64)"
      ]
     },
     "execution_count": 443,
     "metadata": {},
     "output_type": "execute_result"
    }
   ],
   "source": [
    "features_matrix"
   ]
  },
  {
   "cell_type": "code",
   "execution_count": 444,
   "metadata": {},
   "outputs": [
    {
     "name": "stdout",
     "output_type": "stream",
     "text": [
      "Distances:  (249, 2)\n",
      "Cluster Labels:  [0 0 0 0 0 0 0 0 0 0 0 0 0 0 0 0 0 0 0 0 0 0 0 0 0 0 0 1 0 0 0 0 0 0 0 0 0\n",
      " 0 0 0 0 0 0 0 0 0 0 0 0 0 1 0 0 0 0 0 0 0 1 0 0 0 0 0 0 0 0 0 0 0 1 0 0 0\n",
      " 0 1 0 1 0 1 0 1 1 0 0 0 0 1 0 0 1 0 0 0 0 0 0 1 0 0 1 0 0 0 0 0 0 0 0 1 0\n",
      " 0 0 1 0 1 1 0 1 0 0 0 0 1 0 1 0 0 0 1 1 0 0 0 0 0 1 0 0 0 1 0 0 1 0 1 0 0\n",
      " 1 0 0 0 0 0 0 0 1 0 1 0 1 1 1 0 0 1 1 0 1 1 0 0 1 0 1 1 0 1 0 1 0 1 1 1 0\n",
      " 1 0 0 0 1 1 1 0 0 1 0 1 1 0 1 1 1 1 0 1 1 1 0 1 1 1 0 1 1 1 0 1 1 0 0 0 0\n",
      " 1 1 1 0 1 1 1 1 1 1 1 0 1 0 1 0 1 1 1 0 0 0 1 0 1 1 1]\n",
      "Centroids [[  9.68292683  91.15243902 131.04878049 112.23170732  88.53658537\n",
      "  110.42073171]\n",
      " [ 16.43529412 145.71764706 111.91764706 124.37647059 159.14117647\n",
      "  139.65882353]]\n"
     ]
    }
   ],
   "source": [
    "cluster_labels, centroids = k_means(features_matrix, k = 2, max_iter=9000,verbose=False)\n",
    "print(\"Cluster Labels: \", cluster_labels)\n",
    "print(\"Centroids\", centroids)"
   ]
  },
  {
   "cell_type": "code",
   "execution_count": 445,
   "metadata": {},
   "outputs": [
    {
     "data": {
      "image/png": "[encoded data removed]",
      "text/plain": [
       "<Figure size 432x288 with 1 Axes>"
      ]
     },
     "metadata": {
      "needs_background": "light"
     },
     "output_type": "display_data"
    }
   ],
   "source": [
    "plot_k_means(features_matrix,cluster_labels,centroids)"
   ]
  },
  {
   "cell_type": "code",
   "execution_count": null,
   "metadata": {},
   "outputs": [],
   "source": [
    "#maybe try PCA\": https://www.kaggle.com/minc33/visualizing-high-dimensional-clusters#Method-#1:-Principal-Component-Analysis-(PCA):"
   ]
  },
  {
   "cell_type": "code",
   "execution_count": null,
   "metadata": {},
   "outputs": [],
   "source": []
  },
  {
   "cell_type": "code",
   "execution_count": null,
   "metadata": {},
   "outputs": [],
   "source": []
  },
  {
   "cell_type": "code",
   "execution_count": null,
   "metadata": {},
   "outputs": [],
   "source": []
  },
  {
   "cell_type": "code",
   "execution_count": null,
   "metadata": {},
   "outputs": [],
   "source": []
  },
  {
   "cell_type": "code",
   "execution_count": null,
   "metadata": {},
   "outputs": [],
   "source": []
  },
  {
   "cell_type": "code",
   "execution_count": null,
   "metadata": {},
   "outputs": [],
   "source": []
  },
  {
   "cell_type": "code",
   "execution_count": null,
   "metadata": {},
   "outputs": [],
   "source": []
  },
  {
   "cell_type": "code",
   "execution_count": null,
   "metadata": {},
   "outputs": [],
   "source": []
  },
  {
   "cell_type": "code",
   "execution_count": null,
   "metadata": {},
   "outputs": [],
   "source": []
  },
  {
   "cell_type": "code",
   "execution_count": null,
   "metadata": {},
   "outputs": [],
   "source": []
  },
  {
   "cell_type": "code",
   "execution_count": null,
   "metadata": {},
   "outputs": [],
   "source": []
  },
  {
   "cell_type": "code",
   "execution_count": null,
   "metadata": {},
   "outputs": [],
   "source": []
  },
  {
   "cell_type": "code",
   "execution_count": null,
   "metadata": {},
   "outputs": [],
   "source": []
  },
  {
   "cell_type": "code",
   "execution_count": null,
   "metadata": {},
   "outputs": [],
   "source": []
  },
  {
   "cell_type": "code",
   "execution_count": null,
   "metadata": {},
   "outputs": [],
   "source": []
  },
  {
   "cell_type": "code",
   "execution_count": null,
   "metadata": {},
   "outputs": [],
   "source": []
  },
  {
   "cell_type": "code",
   "execution_count": null,
   "metadata": {},
   "outputs": [],
   "source": []
  },
  {
   "cell_type": "code",
   "execution_count": null,
   "metadata": {},
   "outputs": [],
   "source": []
  }
 ],
 "metadata": {
  "kernelspec": {
   "display_name": "Python 3",
   "language": "python",
   "name": "python3"
  },
  "language_info": {
   "codemirror_mode": {
    "name": "ipython",
    "version": 3
   },
   "file_extension": ".py",
   "mimetype": "text/x-python",
   "name": "python",
   "nbconvert_exporter": "python",
   "pygments_lexer": "ipython3",
   "version": "3.8.5"
  }
 },
 "nbformat": 4,
 "nbformat_minor": 4
}
